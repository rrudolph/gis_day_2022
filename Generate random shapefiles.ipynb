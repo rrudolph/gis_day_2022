{
 "cells": [
  {
   "cell_type": "code",
   "execution_count": 59,
   "metadata": {},
   "outputs": [],
   "source": [
    "'''You can grab stuff off the internet like a giant word list, convert it to a list, and pick randomly from it. \n",
    "This is sort of a useless program but demostrates pulling data from the web to incorporate into your project. \n",
    "'''\n",
    "\n",
    "import requests\n",
    "import random\n",
    "import os\n",
    "\n",
    "# use requests library to grab a url off the web\n",
    "url = \"https://www.mit.edu/~ecprice/wordlist.10000\"\n",
    "r = requests.get(url)\n",
    "\n",
    "# decode the bytes and split based off the new line character\n",
    "word_list = r.content.decode(\"utf-8\").split(\"\\n\")\n",
    "# print(word_list)"
   ]
  },
  {
   "cell_type": "code",
   "execution_count": 151,
   "metadata": {},
   "outputs": [
    {
     "name": "stdout",
     "output_type": "stream",
     "text": [
      "edward\n"
     ]
    }
   ],
   "source": [
    "def get_random_word():\n",
    "    '''return a random word from the word list using the random library'''\n",
    "    return random.choice(word_list)\n",
    "\n",
    "print(get_random_word())\n"
   ]
  },
  {
   "cell_type": "code",
   "execution_count": 162,
   "metadata": {},
   "outputs": [
    {
     "name": "stdout",
     "output_type": "stream",
     "text": [
      "Generating emily.shp\n",
      "Generating assistant.shp\n",
      "Generating strip.shp\n",
      "Generating upgrade.shp\n",
      "Generating searchcom.shp\n",
      "Generating minolta.shp\n",
      "Generating crucial.shp\n",
      "Generating bigger.shp\n",
      "Generating device.shp\n",
      "Generating equally.shp\n",
      "Generating bolivia.shp\n",
      "Generating afraid.shp\n",
      "Generating arrives.shp\n",
      "Generating yacht.shp\n",
      "Generating lp.shp\n",
      "Generating ts.shp\n",
      "Generating conversation.shp\n",
      "Generating published.shp\n",
      "Generating alumni.shp\n",
      "Generating owen.shp\n"
     ]
    }
   ],
   "source": [
    "# set paths\n",
    "out_folder = r\"C:\\Student\\GISDay_2022\\random_shapefiles\"\n",
    "shoreline = r\"C:\\Student\\GISDay_2022\\Fox_data.gdb\\Shoreline\"\n",
    "\n",
    "# if the output folder doesn't exists, create it\n",
    "if not os.path.isdir(out_folder):\n",
    "    os.mkdir(out_folder)\n",
    "\n",
    "# make 20 random usless shapefiles just for fun\n",
    "for i in range(20):\n",
    "    \n",
    "    out_fc = f\"{get_random_word()}.shp\"\n",
    "    print(f\"Generating {out_fc}\")\n",
    "    arcpy.management.CreateRandomPoints(out_folder, out_fc, shoreline, \"0 0 250 250\", 1, \"0 Meters\", \"POINT\", 0)"
   ]
  },
  {
   "cell_type": "code",
   "execution_count": 164,
   "metadata": {},
   "outputs": [
    {
     "name": "stdout",
     "output_type": "stream",
     "text": [
      "Adding geometry attributes and adding field name\n",
      "afraid.shp          NAD_1983_UTM_Zone_11N Point\n",
      "Adding geometry attributes and adding field name\n",
      "alumni.shp          NAD_1983_UTM_Zone_11N Point\n",
      "Adding geometry attributes and adding field name\n",
      "arrives.shp         NAD_1983_UTM_Zone_11N Point\n",
      "Adding geometry attributes and adding field name\n",
      "assistant.shp       NAD_1983_UTM_Zone_11N Point\n",
      "Adding geometry attributes and adding field name\n",
      "bigger.shp          NAD_1983_UTM_Zone_11N Point\n",
      "Adding geometry attributes and adding field name\n",
      "bolivia.shp         NAD_1983_UTM_Zone_11N Point\n",
      "Adding geometry attributes and adding field name\n",
      "conversation.shp    NAD_1983_UTM_Zone_11N Point\n",
      "Adding geometry attributes and adding field name\n",
      "crucial.shp         NAD_1983_UTM_Zone_11N Point\n",
      "Adding geometry attributes and adding field name\n",
      "device.shp          NAD_1983_UTM_Zone_11N Point\n",
      "Adding geometry attributes and adding field name\n",
      "emily.shp           NAD_1983_UTM_Zone_11N Point\n",
      "Adding geometry attributes and adding field name\n",
      "equally.shp         NAD_1983_UTM_Zone_11N Point\n",
      "Adding geometry attributes and adding field name\n",
      "lp.shp              NAD_1983_UTM_Zone_11N Point\n",
      "Adding geometry attributes and adding field name\n",
      "minolta.shp         NAD_1983_UTM_Zone_11N Point\n",
      "Adding geometry attributes and adding field name\n",
      "owen.shp            NAD_1983_UTM_Zone_11N Point\n",
      "Adding geometry attributes and adding field name\n",
      "published.shp       NAD_1983_UTM_Zone_11N Point\n",
      "Adding geometry attributes and adding field name\n",
      "searchcom.shp       NAD_1983_UTM_Zone_11N Point\n",
      "Adding geometry attributes and adding field name\n",
      "strip.shp           NAD_1983_UTM_Zone_11N Point\n",
      "Adding geometry attributes and adding field name\n",
      "ts.shp              NAD_1983_UTM_Zone_11N Point\n",
      "Adding geometry attributes and adding field name\n",
      "upgrade.shp         NAD_1983_UTM_Zone_11N Point\n",
      "Adding geometry attributes and adding field name\n",
      "yacht.shp           NAD_1983_UTM_Zone_11N Point\n"
     ]
    }
   ],
   "source": [
    "# for each shapefile, get its spatial reference, shape type, and name.\n",
    "# add xyz data fields, and make a new field to pupulate the file name into the attribute table\n",
    "arcpy.env.workspace = out_folder\n",
    "fcs = arcpy.ListFeatureClasses()\n",
    "proj = arcpy.SpatialReference(26910)\n",
    "for fc in fcs:\n",
    "    desc = arcpy.Describe(fc)\n",
    "    sr = desc.spatialReference.name\n",
    "    fc_type = desc.shapeType\n",
    "    fc_name = desc.name\n",
    "    print(\"Adding geometry attributes and adding field name\")\n",
    "    arcpy.management.AddGeometryAttributes(fc, \"POINT_X_Y_Z_M\", '', '', proj)\n",
    "    arcpy.AddField_management(fc, \"FILESOURCE\", \"text\", \"\", \"\", \"50\")\n",
    "    arcpy.CalculateField_management(fc, \"FILESOURCE\", f\"'{fc_name}'\", \"PYTHON3\", \"\")\n",
    "    print(f\"{fc:<20}{sr} {fc_type}\")\n",
    "print(\"Done\")"
   ]
  },
  {
   "cell_type": "code",
   "execution_count": 175,
   "metadata": {},
   "outputs": [
    {
     "name": "stdout",
     "output_type": "stream",
     "text": [
      "Merging all into one shapefile\n",
      "['afraid.shp', 'alumni.shp', 'arrives.shp', 'assistant.shp', 'bigger.shp', 'bolivia.shp', 'conversation.shp', 'crucial.shp', 'device.shp', 'emily.shp', 'equally.shp', 'lp.shp', 'minolta.shp', 'owen.shp', 'published.shp', 'searchcom.shp', 'strip.shp', 'ts.shp', 'upgrade.shp', 'yacht.shp']\n"
     ]
    },
    {
     "data": {
      "text/html": [
       "<h2>Output</h2>C:\\Student\\GISDay_2021\\random_shapefiles\\Merge.shp<h2>Messages</h2>Start Time: Friday, October 29, 2021 3:06:16 PM<br/>Succeeded at Friday, October 29, 2021 3:06:17 PM (Elapsed Time: 0.50 seconds)<br/><style>.rendered_html td, .rendered_html th {text-align: left;}.rendered_html tbody {border: 1px solid black;}</style>"
      ],
      "text/plain": [
       "<Result 'C:\\\\Student\\\\GISDay_2021\\\\random_shapefiles\\\\Merge.shp'>"
      ]
     },
     "execution_count": 175,
     "metadata": {},
     "output_type": "execute_result"
    }
   ],
   "source": [
    "# let's merge them all together\n",
    "arcpy.env.workspace = out_folder\n",
    "final_merge = \"Merge.shp\"\n",
    "print(\"Merging all into one shapefile\")\n",
    "# Note that Add Source Info parameter sorta does the same thing as getting the file name and batch calculating it into a new field\n",
    "arcpy.management.Merge(fcs, final_merge, \"\", \"ADD_SOURCE_INFO\")"
   ]
  }
 ],
 "metadata": {
  "kernelspec": {
   "display_name": "ArcGISPro",
   "language": "Python",
   "name": "python3"
  },
  "language_info": {
   "file_extension": ".py",
   "name": "python",
   "version": "3"
  }
 },
 "nbformat": 4,
 "nbformat_minor": 2
}
