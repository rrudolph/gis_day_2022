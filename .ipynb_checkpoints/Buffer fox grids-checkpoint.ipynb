{
 "cells": [
  {
   "cell_type": "markdown",
   "metadata": {},
   "source": [
    "# Multiple Buffer Script for Island Fox Grids\n",
    "Let's buffer the fox grids and see how much area each buffer covers. We can do cool analysis with it. <br>\n",
    "<img align=\"left\" width=\"300\" height=\"300\" src=\"https://www.nwf.org/-/media/NEW-WEBSITE/Shared-Folder/Magazines/2019/June-July/island-foxes-StCatalina-fox-JJ19-900x591.ashx?la=en&hash=525F6E9D0242F1C1A07B3B2AD76A837A8CBBED9E\">"
   ]
  },
  {
   "cell_type": "markdown",
   "metadata": {},
   "source": [
    "#### Make a list of buffer values using the range() function"
   ]
  },
  {
   "cell_type": "code",
   "execution_count": 7,
   "metadata": {},
   "outputs": [
    {
     "name": "stdout",
     "output_type": "stream",
     "text": [
      "[100, 200, 300, 400, 500]\n"
     ]
    }
   ],
   "source": [
    "buffer_list = [i for i in range(100, 600, 100)]\n",
    "print(buffer_list)\n"
   ]
  },
  {
   "cell_type": "markdown",
   "metadata": {},
   "source": [
    "#### Loop over the buffer values to buffer, add field and calculcate area values\n",
    "A for loop is the bread and butter of python.  It loops over a series of items and does whatever is in the indented code block."
   ]
  },
  {
   "cell_type": "code",
   "execution_count": 39,
   "metadata": {},
   "outputs": [
    {
     "name": "stdout",
     "output_type": "stream",
     "text": [
      "[100, 200, 300, 400, 500]\n",
      "Buffering 100 meters\n",
      "Converint to singlepart\n",
      "Adding field\n",
      "Calculating field\n",
      "Buffering 200 meters\n",
      "Converint to singlepart\n",
      "Adding field\n",
      "Calculating field\n",
      "Buffering 300 meters\n",
      "Converint to singlepart\n",
      "Adding field\n",
      "Calculating field\n",
      "Buffering 400 meters\n",
      "Converint to singlepart\n",
      "Adding field\n",
      "Calculating field\n",
      "Buffering 500 meters\n",
      "Converint to singlepart\n",
      "Adding field\n",
      "Calculating field\n"
     ]
    }
   ],
   "source": [
    "\n",
    "# output spatial reference is nad83 UTM zone 10\n",
    "sr = arcpy.SpatialReference(26910)\n",
    "\n",
    "# Buffer using the list of meters\n",
    "for buffer in buffer_list:\n",
    "\n",
    "    print(f\"Buffering {buffer} meters\")\n",
    "    out_fc = rf\"C:\\GIS\\Projects\\Python Demo\\GISDay_2021\\Island_data.gdb\\FoxGrids_{buffer}m_buffer\"\n",
    "\n",
    "    arcpy.analysis.Buffer(\"FoxGrids\", out_fc , f\"{buffer} Meters\", \"FULL\", \"ROUND\", \"ALL\", None, \"PLANAR\")\n",
    "\n",
    "    print(\"Convert to singlepart\")\n",
    "    out_fc_sp = rf\"C:\\GIS\\Projects\\Python Demo\\GISDay_2021\\Island_data.gdb\\FoxGrids_{buffer}m_buffer_singlepart\"\n",
    "    arcpy.management.MultipartToSinglepart(out_fc, out_fc_sp)\n",
    "    \n",
    "    print(\"Adding field\")\n",
    "    arcpy.management.AddField(out_fc_sp, \"Hectares\", \"DOUBLE\", None, None, None, '', \"NULLABLE\", \"NON_REQUIRED\", '')\n",
    "    arcpy.management.AddField(out_fc_sp, \"SqMiles\", \"DOUBLE\", None, None, None, '', \"NULLABLE\", \"NON_REQUIRED\", '')\n",
    "    \n",
    "    print(\"Calculating field\")\n",
    "    arcpy.management.CalculateGeometryAttributes(out_fc_sp, \"SqMiles AREA\", '', \"SQUARE_MILES_US\", sr, \"SAME_AS_INPUT\")\n",
    "    arcpy.management.CalculateGeometryAttributes(out_fc_sp, \"Hectares AREA\", '', \"HECTARES\", sr, \"SAME_AS_INPUT\")"
   ]
  }
 ],
 "metadata": {
  "kernelspec": {
   "display_name": "ArcGISPro",
   "language": "Python",
   "name": "python3"
  },
  "language_info": {
   "file_extension": ".py",
   "name": "python",
   "version": "3"
  }
 },
 "nbformat": 4,
 "nbformat_minor": 2
}
