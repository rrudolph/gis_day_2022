{
 "cells": [
  {
   "cell_type": "code",
   "execution_count": 16,
   "metadata": {},
   "outputs": [
    {
     "data": {
      "text/html": [
       "<h2>Output</h2>C:\\GIS\\Projects\\Python Demo\\GISDay_2021\\Island_data.gdb\\FoxGrids_100buffer<h2>Messages</h2>Start Time: Wednesday, October 27, 2021 2:19:55 PM<br/>Succeeded at Wednesday, October 27, 2021 2:19:57 PM (Elapsed Time: 2.11 seconds)<br/><style>.rendered_html td, .rendered_html th {text-align: left;}.rendered_html tbody {border: 1px solid black;}</style>"
      ],
      "text/plain": [
       "<Result 'C:\\\\GIS\\\\Projects\\\\Python Demo\\\\GISDay_2021\\\\Island_data.gdb\\\\FoxGrids_100buffer'>"
      ]
     },
     "execution_count": 16,
     "metadata": {},
     "output_type": "execute_result"
    }
   ],
   "source": [
    "arcpy.analysis.Buffer(\"FoxGrids\", r\"C:\\GIS\\Projects\\Python Demo\\GISDay_2021\\Island_data.gdb\\FoxGrids_100buffer\", \"100 Meters\", \"FULL\", \"ROUND\", \"ALL\", None, \"PLANAR\")"
   ]
  }
 ],
 "metadata": {
  "kernelspec": {
   "display_name": "ArcGISPro",
   "language": "Python",
   "name": "python3"
  },
  "language_info": {
   "file_extension": ".py",
   "name": "python",
   "version": "3"
  }
 },
 "nbformat": 4,
 "nbformat_minor": 2
}
