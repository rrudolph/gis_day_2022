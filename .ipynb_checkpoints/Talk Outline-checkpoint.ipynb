{
 "cells": [
  {
   "cell_type": "markdown",
   "metadata": {},
   "source": [
    "# GIS Day Talk Outline\n",
    "Python and Jupyter Notebooks in ArcGIS Pro"
   ]
  },
  {
   "cell_type": "markdown",
   "metadata": {},
   "source": [
    "1. Island Tour\n",
    "2. Island Work\n",
    "    - Intertidal Monitoring\n",
    "    - Kelp Forest Monitoring\n",
    "    - Island Fox Restoratin/Monitoring\n",
    "    - Ecological Restoration\n",
    "    - Maintenance/Facilities\n",
    "3. More stuff\n"
   ]
  }
 ],
 "metadata": {
  "kernelspec": {
   "display_name": "ArcGISPro",
   "language": "Python",
   "name": "python3"
  },
  "language_info": {
   "file_extension": ".py",
   "name": "python",
   "version": "3"
  }
 },
 "nbformat": 4,
 "nbformat_minor": 2
}
