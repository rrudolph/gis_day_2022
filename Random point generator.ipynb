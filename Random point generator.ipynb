{
 "cells": [
  {
   "cell_type": "code",
   "execution_count": 36,
   "metadata": {},
   "outputs": [
    {
     "name": "stdout",
     "output_type": "stream",
     "text": [
      "Creating random points\n",
      "Adding field\n",
      "Adding random val\n",
      "Buffering\n"
     ]
    },
    {
     "data": {
      "text/html": [
       "<h2>Output</h2>C:\\Student\\GISDay_2021\\Fox_data.gdb\\random_points2_buffer<h2>Messages</h2>Start Time: Friday, October 29, 2021 1:47:56 PM<br/>Succeeded at Friday, October 29, 2021 1:47:56 PM (Elapsed Time: 0.56 seconds)<br/><style>.rendered_html td, .rendered_html th {text-align: left;}.rendered_html tbody {border: 1px solid black;}</style>"
      ],
      "text/plain": [
       "<Result 'C:\\\\Student\\\\GISDay_2021\\\\Fox_data.gdb\\\\random_points2_buffer'>"
      ]
     },
     "execution_count": 36,
     "metadata": {},
     "output_type": "execute_result"
    }
   ],
   "source": [
    "import random\n",
    "import os\n",
    "\n",
    "def get_rand_int():\n",
    "    return random.randint(50, 500)\n",
    "\n",
    "\n",
    "ws = r\"C:\\Student\\GISDay_2022\\Fox_data.gdb\"\n",
    "arcpy.env.workspace = ws\n",
    "\n",
    "shoreline = os.path.join(ws, \"Shoreline\")\n",
    "out_fc = \"random_points2\"\n",
    "out_buff = out_fc + \"_buffer\"\n",
    "\n",
    "print(\"Creating random points\")\n",
    "arcpy.management.CreateRandomPoints(ws, out_fc, shoreline, \"0 0 250 250\", 100, \"0 Meters\", \"POINT\", 0)\n",
    "print(\"Adding field\")\n",
    "arcpy.management.AddField(out_fc, \"BuffSize\", \"DOUBLE\", None, None, None, '', \"NULLABLE\", \"NON_REQUIRED\", '')\n",
    "\n",
    "print(\"Adding random val\")\n",
    "with arcpy.da.UpdateCursor(out_fc, [\"BuffSize\"] ) as cursor:\n",
    "    for row in cursor:\n",
    "        row[0] = get_rand_int()\n",
    "        cursor.updateRow(row)\n",
    "\n",
    "print(\"Buffering\")\n",
    "arcpy.analysis.Buffer(out_fc, out_buff, \"BuffSize\", \"FULL\", \"ROUND\", \"NONE\", None, \"PLANAR\")\n",
    "        "
   ]
  }
 ],
 "metadata": {
  "kernelspec": {
   "display_name": "ArcGISPro",
   "language": "Python",
   "name": "python3"
  },
  "language_info": {
   "file_extension": ".py",
   "name": "python",
   "version": "3"
  }
 },
 "nbformat": 4,
 "nbformat_minor": 2
}
