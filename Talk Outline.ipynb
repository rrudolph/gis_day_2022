{
 "cells": [
  {
   "cell_type": "markdown",
   "metadata": {},
   "source": [
    "# GIS Day 2022 Talk Outline\n",
    "[Python](https://pro.arcgis.com/en/pro-app/latest/arcpy/get-started/what-is-arcpy-.htm) and [Jupyter Notebooks](https://pro.arcgis.com/en/pro-app/latest/arcpy/get-started/pro-notebooks.htm) in ArcGIS Pro <br>\n",
    "11/18/2022<br>\n",
    "Rocky Rudolph, GISP<br>\n",
    "GIS Specialist<br>\n",
    "Channel Islands National Park<br>\n"
   ]
  },
  {
   "cell_type": "markdown",
   "metadata": {},
   "source": [
    "1. Island Tour\n",
    "2. Island Work\n",
    "    - Intertidal Monitoring\n",
    "    - Kelp Forest Monitoring\n",
    "    - Island Fox Restoration/Monitoring\n",
    "    - Ecological Restoration\n",
    "    - Maintenance/Facilities\n",
    "3. Demo\n",
    "    - Anatomy of a python function\n",
    "    - Using the online reference\n",
    "    - Basic for loop\n",
    "    - Markdown\n"
   ]
  }
 ],
 "metadata": {
  "kernelspec": {
   "display_name": "ArcGISPro",
   "language": "Python",
   "name": "python3"
  },
  "language_info": {
   "file_extension": ".py",
   "name": "python",
   "version": "3"
  }
 },
 "nbformat": 4,
 "nbformat_minor": 2
}
