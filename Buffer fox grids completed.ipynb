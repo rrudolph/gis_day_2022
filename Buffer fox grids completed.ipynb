{
 "cells": [
  {
   "cell_type": "markdown",
   "metadata": {},
   "source": [
    "# Multiple Buffer Script for Island Fox Grids\n",
    "Let's buffer the fox grids and see how much area each buffer covers. We can do cool analysis with it. <br>\n",
    "<img align=\"left\" width=\"300\" height=\"300\" src=\"https://www.nwf.org/-/media/NEW-WEBSITE/Shared-Folder/Magazines/2019/June-July/island-foxes-StCatalina-fox-JJ19-900x591.ashx?la=en&hash=525F6E9D0242F1C1A07B3B2AD76A837A8CBBED9E\">"
   ]
  },
  {
   "cell_type": "markdown",
   "metadata": {},
   "source": [
    "#### Make a list of buffer values using the range() function"
   ]
  },
  {
   "cell_type": "code",
   "execution_count": 22,
   "metadata": {},
   "outputs": [
    {
     "name": "stdout",
     "output_type": "stream",
     "text": [
      "[100, 200, 300, 400]\n"
     ]
    }
   ],
   "source": [
    "buffer_list = [i for i in range(100, 500, 100)]\n",
    "print(buffer_list)\n"
   ]
  },
  {
   "cell_type": "markdown",
   "metadata": {},
   "source": [
    "#### Loop over the buffer values to buffer, add field and calculcate area values\n",
    "A for loop is the bread and butter of python.  It loops over a series of items and does whatever is in the indented code block."
   ]
  },
  {
   "cell_type": "code",
   "execution_count": 10,
   "metadata": {},
   "outputs": [
    {
     "ename": "NameError",
     "evalue": "name 'buffer_list' is not defined",
     "output_type": "error",
     "traceback": [
      "\u001b[0;31m---------------------------------------------------------------------------\u001b[0m\n\u001b[0;31mNameError\u001b[0m                                 Traceback (most recent call last)",
      "In  \u001b[0;34m[10]\u001b[0m:\nLine \u001b[0;34m7\u001b[0m:     \u001b[37m# Buffer using the list of meters\u001b[39;49;00m\n",
      "\u001b[0;31mNameError\u001b[0m: name 'buffer_list' is not defined\n\u001b[0;31m---------------------------------------------------------------------------\u001b[0m"
     ]
    }
   ],
   "source": [
    "\n",
    "# output spatial reference is nad83 UTM zone 10\n",
    "sr = arcpy.SpatialReference(26910)\n",
    "\n",
    "shoreline = r\"C:\\Student\\GISDay_2022\\Fox_data.gdb\\Shoreline\"\n",
    "\n",
    "# Buffer using the list of meters\n",
    "for buffer in buffer_list:\n",
    "\n",
    "    print(f\"Buffering {buffer} meters\")\n",
    "    out_fc = rf\"C:\\Student\\GISDay_2022\\Fox_data.gdb\\FoxGrids_{buffer}m_buffer\"\n",
    "    arcpy.analysis.Buffer(\"FoxGrids\", out_fc , f\"{buffer} Meters\", \"FULL\", \"ROUND\", \"LIST\", \"GridCode\", \"PLANAR\")\n",
    "    \n",
    "    print(\"Clipping\")\n",
    "    out_fc_clip = out_fc + \"_clip\"\n",
    "    arcpy.analysis.Clip(out_fc, shoreline , out_fc_clip, None)\n",
    "    \n",
    "    print(\"Adding field\")\n",
    "    arcpy.management.AddField(out_fc_clip, \"Hectares\", \"DOUBLE\", None, None, None, '', \"NULLABLE\", \"NON_REQUIRED\", '')\n",
    "    arcpy.management.AddField(out_fc_clip, \"SqMiles\", \"DOUBLE\", None, None, None, '', \"NULLABLE\", \"NON_REQUIRED\", '')\n",
    "    \n",
    "    print(\"Calculating field\")\n",
    "    arcpy.management.CalculateGeometryAttributes(out_fc_clip, \"SqMiles AREA\", '', \"SQUARE_MILES_US\", sr, \"SAME_AS_INPUT\")\n",
    "    arcpy.management.CalculateGeometryAttributes(out_fc_clip, \"Hectares AREA\", '', \"HECTARES\", sr, \"SAME_AS_INPUT\")"
   ]
  },
  {
   "cell_type": "code",
   "execution_count": null,
   "metadata": {},
   "outputs": [],
   "source": []
  }
 ],
 "metadata": {
  "kernelspec": {
   "display_name": "ArcGISPro",
   "language": "Python",
   "name": "python3"
  },
  "language_info": {
   "file_extension": ".py",
   "name": "python",
   "version": "3"
  }
 },
 "nbformat": 4,
 "nbformat_minor": 2
}
